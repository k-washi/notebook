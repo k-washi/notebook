{
  "nbformat": 4,
  "nbformat_minor": 0,
  "metadata": {
    "colab": {
      "name": "segan_baseline.ipynb",
      "provenance": [],
      "collapsed_sections": [],
      "mount_file_id": "1GXqoi5BQIr8AgXtqfEITrlLM7DM5Y-Wx",
      "authorship_tag": "ABX9TyPSCKRP83B4Gb6Vh+yofqQw",
      "include_colab_link": true
    },
    "kernelspec": {
      "name": "python3",
      "display_name": "Python 3"
    },
    "accelerator": "GPU"
  },
  "cells": [
    {
      "cell_type": "markdown",
      "metadata": {
        "id": "view-in-github",
        "colab_type": "text"
      },
      "source": [
        "<a href=\"https://colab.research.google.com/github/k-washi/notebook/blob/master/segan_baseline.ipynb\" target=\"_parent\"><img src=\"https://colab.research.google.com/assets/colab-badge.svg\" alt=\"Open In Colab\"/></a>"
      ]
    },
    {
      "cell_type": "markdown",
      "metadata": {
        "id": "p7v5tGZaivVX",
        "colab_type": "text"
      },
      "source": [
        "# GANによる音声強調"
      ]
    },
    {
      "cell_type": "markdown",
      "metadata": {
        "id": "CPqeOvugkPiE",
        "colab_type": "text"
      },
      "source": [
        "## 音声強調とは\n",
        "\n",
        "他の音響信号の干渉やネットワーク障害など、様々な形で劣化する。\n",
        "\n",
        "NoisyAudio = Noise + Target\n",
        "\n",
        "[SEGAN: Speech Enhancement Generative Adversarial Network](https://arxiv.org/pdf/1703.09452.pdf)\n"
      ]
    },
    {
      "cell_type": "markdown",
      "metadata": {
        "id": "sHxmnzqSxsNb",
        "colab_type": "text"
      },
      "source": [
        "## インストール"
      ]
    },
    {
      "cell_type": "code",
      "metadata": {
        "id": "CCguWbd6xu4V",
        "colab_type": "code",
        "outputId": "0189e71e-acc8-4d7d-d577-139add99f981",
        "colab": {
          "base_uri": "https://localhost:8080/",
          "height": 122
        }
      },
      "source": [
        "pip install tensorboardx"
      ],
      "execution_count": 0,
      "outputs": [
        {
          "output_type": "stream",
          "text": [
            "Requirement already satisfied: tensorboardx in /usr/local/lib/python3.6/dist-packages (2.0)\n",
            "Requirement already satisfied: numpy in /usr/local/lib/python3.6/dist-packages (from tensorboardx) (1.18.2)\n",
            "Requirement already satisfied: six in /usr/local/lib/python3.6/dist-packages (from tensorboardx) (1.12.0)\n",
            "Requirement already satisfied: protobuf>=3.8.0 in /usr/local/lib/python3.6/dist-packages (from tensorboardx) (3.10.0)\n",
            "Requirement already satisfied: setuptools in /usr/local/lib/python3.6/dist-packages (from protobuf>=3.8.0->tensorboardx) (46.1.3)\n"
          ],
          "name": "stdout"
        }
      ]
    },
    {
      "cell_type": "code",
      "metadata": {
        "id": "L9lKXT-IhuHM",
        "colab_type": "code",
        "colab": {}
      },
      "source": [
        "!unzip './drive/My Drive/data/speech_enhance/noisy_testset_16kHz.zip'"
      ],
      "execution_count": 0,
      "outputs": []
    },
    {
      "cell_type": "code",
      "metadata": {
        "id": "mXHyU0wNiklU",
        "colab_type": "code",
        "colab": {}
      },
      "source": [
        "!unzip './drive/My Drive/data/speech_enhance/clean_testset_16kHz.zip'"
      ],
      "execution_count": 0,
      "outputs": []
    },
    {
      "cell_type": "code",
      "metadata": {
        "id": "Jn4uLClkubuf",
        "colab_type": "code",
        "outputId": "3f09b5b7-165f-40bb-a3d0-5bff67236678",
        "colab": {
          "base_uri": "https://localhost:8080/",
          "height": 34
        }
      },
      "source": [
        "#%tensorflow_version 1.x\n",
        "import tensorflow as tf\n",
        "print(tf.__version__)"
      ],
      "execution_count": 0,
      "outputs": [
        {
          "output_type": "stream",
          "text": [
            "2.2.0-rc3\n"
          ],
          "name": "stdout"
        }
      ]
    },
    {
      "cell_type": "code",
      "metadata": {
        "id": "IvmVUW-gmmO9",
        "colab_type": "code",
        "outputId": "ee933bb2-01ff-426e-ab3f-a0493fbd9867",
        "colab": {
          "base_uri": "https://localhost:8080/",
          "height": 34
        }
      },
      "source": [
        "\n",
        "import os\n",
        "from glob import glob\n",
        "import numpy as np\n",
        "from scipy.io.wavfile import read as wavread\n",
        "import tensorboardX as tbx\n",
        "from functools import partial\n",
        "\n",
        "from keras.layers import Input, Reshape, Concatenate, Activation, concatenate\n",
        "from keras.layers import Conv2D, Conv2DTranspose, Dense, UpSampling2D\n",
        "from keras.layers.advanced_activations import PReLU #Leaky ReLU\n",
        "#from keras.layers.convolutional import Conv2D\n",
        "from keras.layers.core import Dense, Flatten\n",
        "from keras.layers.normalization import BatchNormalization\n",
        "from keras.models import Model\n",
        "from keras.initializers import RandomNormal, Ones\n",
        "from keras.optimizers import RMSprop, Adam\n",
        "\n",
        "from keras import backend as K \n",
        "from keras.layers import Layer, Lambda\n",
        "from keras.layers.merge import Concatenate"
      ],
      "execution_count": 0,
      "outputs": [
        {
          "output_type": "stream",
          "text": [
            "Using TensorFlow backend.\n"
          ],
          "name": "stderr"
        }
      ]
    },
    {
      "cell_type": "markdown",
      "metadata": {
        "id": "Z-YsJkrjzlhQ",
        "colab_type": "text"
      },
      "source": [
        "## 定義"
      ]
    },
    {
      "cell_type": "code",
      "metadata": {
        "id": "ICysDTKnjHOU",
        "colab_type": "code",
        "colab": {}
      },
      "source": [
        "clean_data_path = '/content/clean_testset_16kHz'\n",
        "noisy_data_path = '/content/noisy_testset_16kHz'\n",
        "\n",
        "MAX_WAV_VALUE = 32768.0 #int16の最大値\n",
        "AUDIO_LENGTH = 16384"
      ],
      "execution_count": 0,
      "outputs": []
    },
    {
      "cell_type": "markdown",
      "metadata": {
        "id": "Gp4OD0ygi2Ql",
        "colab_type": "text"
      },
      "source": [
        "## データの取得 & 成形\n",
        "\n",
        "[WSJデータセット](https://datashare.is.ed.ac.uk/handle/10283/1942)\n",
        "soxにより56kHz -> 16kHzにダウンサンプリング\n",
        "\n",
        "訓練データ *_trainset_16kHz.zip\n",
        "テストデータ *_testset_16kHz.zip\n",
        "\n",
        "※簡単のため、テストデータで訓練を行う\n"
      ]
    },
    {
      "cell_type": "code",
      "metadata": {
        "id": "BJrKDNnelxeD",
        "colab_type": "code",
        "outputId": "a68b9dc1-3937-44cc-ce92-68a71c8751c3",
        "colab": {
          "base_uri": "https://localhost:8080/",
          "height": 51
        }
      },
      "source": [
        "# データセットの存在確認\n",
        "def confirm_dir(path):\n",
        "  if not os.path.isdir(path):\n",
        "    print(f\"{path}が見つかりません\")\n",
        "  else:\n",
        "    print(f\"{path}が見つかりました\")\n",
        "\n",
        "confirm_dir(clean_data_path)\n",
        "confirm_dir(noisy_data_path)"
      ],
      "execution_count": 0,
      "outputs": [
        {
          "output_type": "stream",
          "text": [
            "/content/clean_testset_16kHzが見つかりました\n",
            "/content/noisy_testset_16kHzが見つかりました\n"
          ],
          "name": "stdout"
        }
      ]
    },
    {
      "cell_type": "code",
      "metadata": {
        "id": "NMOwbonhmNiR",
        "colab_type": "code",
        "colab": {}
      },
      "source": [
        "# minibatch iterater\n",
        "def iterate_minibatches(clean_data_path, noisy_data_path, audio_length=16384, batch_size=128):\n",
        "  clean_filepaths = sorted(glob(os.path.join(clean_data_path, '*.wav')))\n",
        "  noisy_filepaths = sorted(glob(os.path.join(noisy_data_path, '*.wav')))\n",
        "\n",
        "  n_files = len(clean_filepaths)\n",
        "  if n_files != len(noisy_filepaths):\n",
        "    raise Exception(\"データセットがミスマッチです\")\n",
        "  \n",
        "  cur_batch = 0\n",
        "\n",
        "  while True:\n",
        "    # 最初と最後で、データセットを初期化\n",
        "    if (n_files - cur_batch * batch_size) < batch_size or cur_batch == 0:\n",
        "      ids = np.random.choice(range(n_files), n_files, replace=False) # replace 重複禁止\n",
        "      #np.random.shuffle(ids)     \n",
        "      cur_batch = 0\n",
        "    \n",
        "    # データを読み込み一定の長さに成形\n",
        "    train_data = []\n",
        "    for i in range(batch_size):\n",
        "      # sampling rate, audio data (パワーx時間)\n",
        "      sr_clean, clean_data = wavread(clean_filepaths[ids[cur_batch * batch_size + i]])\n",
        "      sr_noisy, noisy_data = wavread(noisy_filepaths[ids[cur_batch * batch_size + i]])\n",
        "\n",
        "      start_id = np.random.randint(0, len(clean_data) - audio_length)\n",
        "\n",
        "      clean_data = clean_data[start_id: start_id + audio_length]\n",
        "      noisy_data = noisy_data[start_id: start_id + audio_length]\n",
        "      clean_data = clean_data[None, :, None] # (1, x, 1, y, z)\n",
        "      noisy_data = noisy_data[None, :, None]\n",
        "\n",
        "      train_data.append([clean_data, noisy_data])\n",
        "      #cur_batch = (cur_batch + 1) % int()\n",
        "\n",
        "    cur_batch = (cur_batch + 1) % int(len(clean_filepaths)/batch_size)\n",
        "    train_data = np.array(train_data) / MAX_WAV_VALUE\n",
        "\n",
        "    yield train_data, cur_batch"
      ],
      "execution_count": 0,
      "outputs": []
    },
    {
      "cell_type": "code",
      "metadata": {
        "id": "dEiYvZxzn7Ss",
        "colab_type": "code",
        "colab": {}
      },
      "source": [
        "#test = iterate_minibatches(clean_data_path, noisy_data_path)\n"
      ],
      "execution_count": 0,
      "outputs": []
    },
    {
      "cell_type": "markdown",
      "metadata": {
        "id": "iskhof6BzAzD",
        "colab_type": "text"
      },
      "source": [
        "# Speech Enhancement GAN"
      ]
    },
    {
      "cell_type": "code",
      "metadata": {
        "id": "YajWaORH5IH_",
        "colab_type": "code",
        "colab": {}
      },
      "source": [
        "weight_init = RandomNormal(mean=0., stddev=0.02)"
      ],
      "execution_count": 0,
      "outputs": []
    },
    {
      "cell_type": "markdown",
      "metadata": {
        "id": "1Fq4v5_E0Q3Z",
        "colab_type": "text"
      },
      "source": [
        "### 識別器の実装"
      ]
    },
    {
      "cell_type": "code",
      "metadata": {
        "id": "CGKjqrnCzEes",
        "colab_type": "code",
        "colab": {}
      },
      "source": [
        "def build_segen_discriminator(noisy_input_shape, clean_input_shape, \n",
        "                              n_filters = [64, 128, 256, 512, 1024], kernel_size=(1, 31)):\n",
        "  print(\"Start segen discriminator build\")\n",
        "  clean_input = Input(shape=clean_input_shape)\n",
        "  noisy_input = Input(shape=noisy_input_shape)\n",
        "\n",
        "  # Conditional gan と同様に、channel dimをconcatenate\n",
        "  x = Concatenate(-1)([clean_input, noisy_input])\n",
        "\n",
        "  #以下n_filtersに則った畳み込み\n",
        "  for i in range(len(n_filters)):\n",
        "    #時系列データのため、width方向に長いkernel, strideを使用\n",
        "    x = Conv2D(filters=n_filters[i], kernel_size=kernel_size, strides=(1, 4), \n",
        "               padding='same', use_bias=True, kernel_initializer=weight_init)(x)\n",
        "    x = BatchNormalization(epsilon=1e-5, momentum=0.1)(x)\n",
        "    x = PReLU()(x)\n",
        "\n",
        "  print(x.shape)\n",
        "  x = Reshape((16384, ))(x)\n",
        "\n",
        "  x = Dense(256, activation=None, use_bias=True)(x)\n",
        "  x = PReLU()(x)\n",
        "  x = Dense(128, activation=None, use_bias=True)(x)\n",
        "  x = PReLU()(x)\n",
        "\n",
        "  #Least square => activation linear\n",
        "  x = Dense(1, activation=None, use_bias=True)(x)\n",
        "    \n",
        "  model = Model(inputs=[noisy_input, clean_input], output=x, name=\"Discriminator\")\n",
        "    \n",
        "  print(\"Build SEGEN Discriminator\")\n",
        "  #model.summary()\n",
        "  return model"
      ],
      "execution_count": 0,
      "outputs": []
    },
    {
      "cell_type": "markdown",
      "metadata": {
        "id": "vtXMDrvQ7jjL",
        "colab_type": "text"
      },
      "source": [
        "## 生成器の実装\n",
        "\n",
        "U-Netの構成を流用\n",
        "\n",
        "[カスタムKerasレイヤーを作成](https://keras.io/ja/layers/writing-your-own-keras-layers/)"
      ]
    },
    {
      "cell_type": "code",
      "metadata": {
        "id": "bmLe0xYc7uP5",
        "colab_type": "code",
        "colab": {}
      },
      "source": [
        "#from keras.engine.topology import Layer\n",
        "# https://github.com/keras-team/keras/issues/7736\n",
        "# self.weightsはoverrideできない\n",
        "class ScaleLayer(Layer):\n",
        "    def __init__(self, output_dim, **kwargs):\n",
        "        self.output_dim = output_dim\n",
        "        super(ScaleLayer, self).__init__(**kwargs)\n",
        "    def build(self, input_shape):\n",
        "        self.a_weights = self.add_weight(\n",
        "            name='scale_weights', shape=(input_shape[1], self.output_dim), \n",
        "            initializer=Ones(), trainable=True)\n",
        "        super(ScaleLayer, self).build(input_shape)\n",
        "    def call(self, x):\n",
        "        return x * self.a_weights #K.dot(x, self.a_weights)\n",
        "    def compute_output_shape(self, input_shape):\n",
        "        return (input_shape[0], self.output_dim)"
      ],
      "execution_count": 0,
      "outputs": []
    },
    {
      "cell_type": "code",
      "metadata": {
        "id": "pKAT6S8OCmJH",
        "colab_type": "code",
        "colab": {}
      },
      "source": [
        "def build_segan_generator(noisy_input_shape, z_input_shape,\n",
        "                          n_filters=[64, 128, 256, 512, 1024], kernel_size=(1, 31), use_upsampling=False):\n",
        "  noisy_input = Input(shape=noisy_input_shape)\n",
        "  z_input = Input(shape=z_input_shape)\n",
        "  \n",
        "  skip_connection = []\n",
        "\n",
        "  x = noisy_input\n",
        "  print(\"Create Unet based model\")\n",
        "\n",
        "  for i in range(len(n_filters)):\n",
        "    x = Conv2D(filters=n_filters[i], kernel_size=kernel_size, strides=(1, 4), \n",
        "               padding='same', use_bias=True, kernel_initializer=weight_init)(x)\n",
        "    #x = BatchNormalization(epsilon=1e-5, momentum=0.1)(x)\n",
        "    x = PReLU()(x)\n",
        "    #skip_connection.append(ScaleLayer(n_filters[i])(x))\n",
        "    skip_connection.append(x)\n",
        "  \n",
        "  print(\"add skip connection layer\")\n",
        "  n_filters = [1] +  n_filters[:-1]\n",
        "  x = z_input \n",
        "  \n",
        "  for i in range(len(n_filters)-1, -1, -1):\n",
        "    sk = skip_connection[i]\n",
        "    x = Concatenate(3)([x, sk]) # channel dim をconcatenate\n",
        "    # https://qiita.com/MuAuan/items/69dda8bd4013007d7b18\n",
        "    # UpSampling2Dの方がきれいな結果になる???\n",
        "    \n",
        "    if use_upsampling:\n",
        "      x = UpSampling2D(size=(1, 4))(x)\n",
        "      x = Conv2D(filters=n_filters[i], kernel_size=kernel_size, strides=(1, 1), \n",
        "                 padding='same', kernel_initializer=weight_init, use_bias=True)(x)\n",
        "    else:\n",
        "      x = Conv2DTranspose(filters=n_filters[i], kernel_size=kernel_size,\n",
        "                strides=(1, 4), padding='same',\n",
        "                kernel_initializer=weight_init)(x)\n",
        "    if i > 0:\n",
        "      x = PReLU()(x)\n",
        "    else:\n",
        "      # 最終層にtanhはよくやるそう,,,\n",
        "      x = Activation('tanh')(x)\n",
        "  \n",
        "  #x = Lambda(lambda x: Activation('tanh')(x), output_shape=noisy_output_shape(x)\n",
        "  \n",
        "  print(x.shape)\n",
        "  model = Model(inputs=[noisy_input, z_input], outputs=x, name='Generator')\n",
        "  print(\"Build SEGEN Generator\")\n",
        "\n",
        "  #model.summary()\n",
        "  return model\n",
        "  \n"
      ],
      "execution_count": 0,
      "outputs": []
    },
    {
      "cell_type": "markdown",
      "metadata": {
        "id": "QJAUP5HZOheo",
        "colab_type": "text"
      },
      "source": [
        "# モデル学習のためのロギング"
      ]
    },
    {
      "cell_type": "code",
      "metadata": {
        "id": "xo3b4wAYOkzG",
        "colab_type": "code",
        "colab": {}
      },
      "source": [
        "def log_audio(audios, logger, name=\"synthesis\", sr=16000):\n",
        "    for i in range(len(audios)):\n",
        "        logger.add_audio('{}_{}'.format(name, i), audios[i], 0, sample_rate=sr)\n",
        "\n",
        "\n",
        "def log_losses(loss_d, loss_g, iteration, logger):\n",
        "    logger.add_scalar(\"losses_d\", loss_d[0], iteration)\n",
        "    logger.add_scalar(\"losses_d_real\", loss_d[1], iteration)\n",
        "    logger.add_scalar(\"losses_d_fake\", loss_d[2], iteration)\n",
        "    logger.add_scalar(\"losses_g\", loss_g[0], iteration)\n",
        "    logger.add_scalar(\"losses_g_fake\", loss_g[1], iteration)\n",
        "    logger.add_scalar(\"losses_g_reconstruction\", loss_g[2], iteration)"
      ],
      "execution_count": 0,
      "outputs": []
    },
    {
      "cell_type": "markdown",
      "metadata": {
        "id": "ZQTFaa_ezFZS",
        "colab_type": "text"
      },
      "source": [
        "# モデルの学習"
      ]
    },
    {
      "cell_type": "code",
      "metadata": {
        "id": "8K25N_wdF8d1",
        "colab_type": "code",
        "outputId": "51ecc81a-58a7-418e-b959-88f2f0d50f57",
        "colab": {
          "base_uri": "https://localhost:8080/",
          "height": 51
        }
      },
      "source": [
        "physical_devices = tf.config.list_physical_devices('GPU') \n",
        "print(physical_devices)\n",
        "#https://stackoverflow.com/questions/57062456/function-call-stack-keras-scratch-graph-error\n",
        "if physical_devices:\n",
        "    try:\n",
        "        # Restrict TensorFlow to only use the fourth GPU\n",
        "        tf.config.experimental.set_visible_devices(physical_devices[0], 'GPU')\n",
        "        tf.config.experimental.set_memory_growth(physical_devices[0], True) \n",
        "        # Currently, memory growth needs to be the same across GPUs\n",
        "            \n",
        "        print(\"Set growth\")\n",
        "        #logical_gpus = tf.config.experimental.list_logical_devices('GPU')\n",
        "        #print(len(gpus), \"Physical GPUs,\", len(logical_gpus), \"Logical GPUs\")\n",
        "    except RuntimeError as e:\n",
        "        # Memory growth must be set before GPUs have been initialized\n",
        "        print(\"Error\")\n",
        "        print(e)"
      ],
      "execution_count": 0,
      "outputs": [
        {
          "output_type": "stream",
          "text": [
            "[PhysicalDevice(name='/physical_device:GPU:0', device_type='GPU')]\n",
            "Set growth\n"
          ],
          "name": "stdout"
        }
      ]
    },
    {
      "cell_type": "code",
      "metadata": {
        "id": "lbocPqbRwF6S",
        "colab_type": "code",
        "colab": {}
      },
      "source": [
        "def train(ndf=64, ngf=64, use_upsampling=False, lr_d=5e-5, lr_g=5e-5, reconstruction_weight=100, \n",
        "          audio_length=16384, n_cp_audio=8, n_iter=int(1e6), batch_size=256, out_dir='data'):\n",
        "  \"\"\"\n",
        "  ndf, ngf: discriminatorとgenerator フィルタの数\n",
        "  use_upsampling: upsampringかtransposed convolutionsか\n",
        "  \"\"\"\n",
        "  logger = tbx.SummaryWriter(out_dir)\n",
        "  data_iterator = iterate_minibatches(clean_data_path, noisy_data_path, audio_length, batch_size)\n",
        "\n",
        "  clean_input_shape = (1, 16384, 1)\n",
        "  noisy_input_shape = (1, 16384, 1)\n",
        "  z_input_shape = (1, 16, 1024)\n",
        "\n",
        "  # instance Model Class\n",
        "  print(\"Build Model\")\n",
        "  D = build_segen_discriminator(noisy_input_shape, clean_input_shape) \n",
        "  print(\"D build\")\n",
        "  G = build_segan_generator(noisy_input_shape, z_input_shape, use_upsampling=use_upsampling)\n",
        "  print(\"G build\")\n",
        "  \n",
        "  z_input = Input(shape=z_input_shape)\n",
        "  noisy_input = Input(shape=noisy_input_shape, name=\"main_input_clean\")\n",
        "  clean_input = Input(shape=clean_input_shape, name=\"main_input_noisy\")\n",
        "  \n",
        "  print(\"Create IO\")\n",
        "  G_out = G([noisy_input, z_input])\n",
        "  #G = Model([noisy_input, z_input], G_out)\n",
        "  \n",
        "  print(\"Denoise\")\n",
        "\n",
        "  D_out = D([noisy_input, G_out])\n",
        "  #D = Model([noisy_input, clean_input], D_out)\n",
        "\n",
        "  print(\"Compile Model\")\n",
        "  D.compile(optimizer=Adam(learning_rate=lr_d), loss='mean_squared_error')\n",
        "  #G.compile(optimizer=Adam(learning_rate=lr_d), loss='mean_squared_error')\n",
        "  print(\"Compiled D\")\n",
        " \n",
        "  D.trainable = False\n",
        "  \n",
        "  print(\"Create Fa\")\n",
        "  print(D_out, G_out)\n",
        "  D_of_G = Model(inputs=[noisy_input, z_input, clean_input], outputs=[D_out, G_out])\n",
        "\n",
        "  print(D_out.shape, G_out.shape)\n",
        "  print(\"Compiled G\")\n",
        "  \"\"\"\n",
        "  def mean_absolute_error(y_true, y_pred, denoised_audio, clean_audio):\n",
        "    return K.mean(K.abs(clean_audio - denoised_audio))\n",
        "   \n",
        "  loss_reconstruction = partial(mean_absolute_error, denoised_audio=G_out, clean_audio=clean_input)\n",
        "  \"\"\"\n",
        "  #Finally Compile\n",
        "  D_of_G.compile(optimizer=Adam(learning_rate=lr_g), loss=['mean_squared_error', 'mean_absolute_error'], loss_weights=[1, reconstruction_weight])\n",
        "  \n",
        "  \n",
        "  ones = np.ones((batch_size, 1), dtype=np.float32)\n",
        "  zeros = np.zeros((batch_size, 1), dtype=np.float32)\n",
        "  dummy = np.zeros((batch_size, 1), dtype=np.float32)\n",
        "\n",
        "  # 評価用に固定zを作成\n",
        "  z_fixed = np.random.normal(0, 1, size=(n_cp_audio,) + z_input_shape)\n",
        "  data_batch, cur_batch = next(data_iterator)\n",
        "  clean_fixed = data_batch[:n_cp_audio, 0]\n",
        "  noisy_fixed = data_batch[:n_cp_audio, 1]\n",
        "  log_audio(clean_fixed[:, 0, :, 0], logger, 'clean')\n",
        "  log_audio(noisy_fixed[:, 0, :, 0], logger, 'noisy')\n",
        "\n",
        "  epoch = 0\n",
        "  \n",
        "  for i in range(n_iter):\n",
        "    if cur_batch == 1:\n",
        "      G.trainable = False\n",
        "      fake_audio = G.predict([noisy_fixed, z_fixed])\n",
        "      log_audio(fake_audio[:n_cp_audio, 0, :, 0], logger, 'denoised')\n",
        "      epoch += 1\n",
        "    D.trainable = True\n",
        "    G.trainable = False\n",
        "\n",
        "    z = np.random.normal(0, 1, size=(batch_size, ) + z_input_shape)\n",
        "    data_batch, cur_batch = next(data_iterator)\n",
        "    clean_batch = data_batch[:, 0]\n",
        "    noisy_batch = data_batch[:, 1]\n",
        "    fake_batch = G.predict([noisy_batch, z])\n",
        "    loss_real = D.train_on_batch([noisy_batch, clean_batch], ones)\n",
        "    loss_fake = D.train_on_batch([noisy_batch, fake_batch], zeros)\n",
        "    loss_d = [loss_real + loss_fake, loss_real, loss_fake]\n",
        "\n",
        "    D.trainable = False\n",
        "    G.trainable = True\n",
        "    data_batch, cur_batch = next(data_iterator)\n",
        "    clean_batch = data_batch[:, 0]\n",
        "    noisy_batch = data_batch[:, 1]\n",
        "    z = np.random.normal(0, 1, size=(batch_size, ) + z_input_shape)\n",
        "    loss_g = D_of_G.train_on_batch([noisy_batch, z, clean_batch],[ones, clean_batch])\n",
        "    fake_audio = G.predict([noisy_fixed, z_fixed])\n",
        "    log_losses(loss_d, loss_g, i, logger)\n",
        "    print(\"nxt_batch\", cur_batch, \"min\", fake_audio.min(), \"max\", fake_audio.max())\n",
        "\n"
      ],
      "execution_count": 0,
      "outputs": []
    },
    {
      "cell_type": "code",
      "metadata": {
        "id": "upRYgBfXoLW6",
        "colab_type": "code",
        "outputId": "e28749e3-ee5a-4445-d6e8-26982a7a8cad",
        "colab": {
          "base_uri": "https://localhost:8080/",
          "height": 1000
        }
      },
      "source": [
        "train(n_iter = 500)"
      ],
      "execution_count": 0,
      "outputs": [
        {
          "output_type": "stream",
          "text": [
            "Build Model\n",
            "Start segen discriminator build\n",
            "(None, 1, 16, 1024)\n",
            "Build SEGEN Discriminator\n",
            "D build\n",
            "Create Unet based model\n",
            "add skip connection layer\n",
            "(None, None, None, 1)\n",
            "Build SEGEN Generator\n",
            "G build\n",
            "Create IO\n"
          ],
          "name": "stdout"
        },
        {
          "output_type": "stream",
          "text": [
            "/usr/local/lib/python3.6/dist-packages/ipykernel_launcher.py:29: UserWarning: Update your `Model` call to the Keras 2 API: `Model(inputs=[<tf.Tenso..., name=\"Discriminator\", outputs=Tensor(\"de...)`\n"
          ],
          "name": "stderr"
        },
        {
          "output_type": "stream",
          "text": [
            "Denoise\n",
            "Compile Model\n",
            "Compiled D\n",
            "Create Fa\n",
            "Tensor(\"Discriminator_1/dense_6/BiasAdd:0\", shape=(None, 1), dtype=float32) Tensor(\"Generator_1/activation_2/Tanh:0\", shape=(None, None, None, 1), dtype=float32)\n",
            "(None, 1) (None, None, None, 1)\n",
            "Compiled G\n",
            "nxt_batch 0 min -0.48481172 max 0.49202752\n",
            "nxt_batch 2 min -0.45815352 max 0.42805457\n",
            "nxt_batch 1 min -0.4280539 max 0.36807194\n",
            "nxt_batch 0 min -0.3953347 max 0.3635697\n",
            "nxt_batch 2 min -0.36276612 max 0.36627218\n",
            "nxt_batch 1 min -0.33817253 max 0.35781533\n",
            "nxt_batch 0 min -0.3291124 max 0.3442443\n",
            "nxt_batch 2 min -0.31024712 max 0.32682407\n",
            "nxt_batch 1 min -0.2840935 max 0.30551782\n",
            "nxt_batch 0 min -0.25518474 max 0.28293547\n",
            "nxt_batch 2 min -0.2322183 max 0.2605797\n",
            "nxt_batch 1 min -0.22377825 max 0.23673826\n",
            "nxt_batch 0 min -0.21318962 max 0.21328878\n",
            "nxt_batch 2 min -0.20032485 max 0.19538715\n",
            "nxt_batch 1 min -0.18513227 max 0.1821143\n",
            "nxt_batch 0 min -0.1756675 max 0.16911241\n",
            "nxt_batch 2 min -0.16364497 max 0.15748526\n",
            "nxt_batch 1 min -0.15226272 max 0.14995266\n",
            "nxt_batch 0 min -0.1425822 max 0.14287506\n",
            "nxt_batch 2 min -0.13284813 max 0.14157826\n",
            "nxt_batch 1 min -0.12672988 max 0.14021799\n",
            "nxt_batch 0 min -0.12518275 max 0.13508438\n",
            "nxt_batch 2 min -0.12693365 max 0.13039169\n",
            "nxt_batch 1 min -0.12421033 max 0.12234908\n",
            "nxt_batch 0 min -0.11562461 max 0.112871915\n",
            "nxt_batch 2 min -0.1029608 max 0.1067631\n",
            "nxt_batch 1 min -0.098029815 max 0.10006573\n",
            "nxt_batch 0 min -0.09197896 max 0.09393335\n",
            "nxt_batch 2 min -0.08319952 max 0.087457314\n",
            "nxt_batch 1 min -0.08478613 max 0.07749031\n",
            "nxt_batch 0 min -0.08215342 max 0.07579642\n",
            "nxt_batch 2 min -0.07790575 max 0.07276345\n",
            "nxt_batch 1 min -0.07435017 max 0.06530774\n",
            "nxt_batch 0 min -0.07255888 max 0.06099647\n",
            "nxt_batch 2 min -0.06767738 max 0.06420912\n",
            "nxt_batch 1 min -0.065131694 max 0.066219665\n",
            "nxt_batch 0 min -0.05799132 max 0.06434757\n",
            "nxt_batch 2 min -0.05544278 max 0.05778674\n",
            "nxt_batch 1 min -0.053377204 max 0.05118881\n",
            "nxt_batch 0 min -0.056084886 max 0.0467055\n",
            "nxt_batch 2 min -0.056862123 max 0.041968998\n",
            "nxt_batch 1 min -0.05473556 max 0.04165208\n",
            "nxt_batch 0 min -0.05268284 max 0.043940548\n",
            "nxt_batch 2 min -0.056479983 max 0.045379635\n",
            "nxt_batch 1 min -0.056024395 max 0.04371979\n",
            "nxt_batch 0 min -0.055507194 max 0.04257172\n",
            "nxt_batch 2 min -0.05556475 max 0.0436321\n",
            "nxt_batch 1 min -0.05580639 max 0.046708893\n",
            "nxt_batch 0 min -0.056623608 max 0.049057476\n",
            "nxt_batch 2 min -0.059616692 max 0.05251187\n",
            "nxt_batch 1 min -0.061346505 max 0.05594221\n",
            "nxt_batch 0 min -0.060875148 max 0.059662387\n",
            "nxt_batch 2 min -0.06078041 max 0.06299974\n",
            "nxt_batch 1 min -0.062527396 max 0.066135176\n",
            "nxt_batch 0 min -0.06544412 max 0.07028964\n",
            "nxt_batch 2 min -0.06801694 max 0.07451138\n",
            "nxt_batch 1 min -0.070727326 max 0.07866162\n",
            "nxt_batch 0 min -0.07306459 max 0.08325216\n",
            "nxt_batch 2 min -0.07598806 max 0.08822689\n",
            "nxt_batch 1 min -0.07914955 max 0.09386093\n",
            "nxt_batch 0 min -0.083063304 max 0.09914157\n",
            "nxt_batch 2 min -0.0879834 max 0.1041026\n",
            "nxt_batch 1 min -0.09315949 max 0.109603986\n",
            "nxt_batch 0 min -0.09862522 max 0.11482837\n",
            "nxt_batch 2 min -0.10386804 max 0.1200428\n",
            "nxt_batch 1 min -0.10854173 max 0.12613118\n",
            "nxt_batch 0 min -0.1132911 max 0.13221602\n",
            "nxt_batch 2 min -0.118031874 max 0.13798146\n",
            "nxt_batch 1 min -0.12282148 max 0.14362699\n",
            "nxt_batch 0 min -0.12791517 max 0.14897674\n",
            "nxt_batch 2 min -0.13306342 max 0.15397698\n",
            "nxt_batch 1 min -0.1383217 max 0.15941021\n",
            "nxt_batch 0 min -0.143412 max 0.1650905\n",
            "nxt_batch 2 min -0.14831695 max 0.17072189\n",
            "nxt_batch 1 min -0.15252016 max 0.17681584\n",
            "nxt_batch 0 min -0.15615804 max 0.18341984\n",
            "nxt_batch 2 min -0.15958196 max 0.19080144\n",
            "nxt_batch 1 min -0.16315877 max 0.19744499\n",
            "nxt_batch 0 min -0.16784431 max 0.20565756\n",
            "nxt_batch 2 min -0.1725866 max 0.21507522\n",
            "nxt_batch 1 min -0.17820244 max 0.22442304\n",
            "nxt_batch 0 min -0.18457693 max 0.23380007\n",
            "nxt_batch 2 min -0.19123046 max 0.24265082\n",
            "nxt_batch 1 min -0.19915254 max 0.2500479\n",
            "nxt_batch 0 min -0.20582244 max 0.26068085\n",
            "nxt_batch 2 min -0.21179512 max 0.2721537\n",
            "nxt_batch 1 min -0.21845055 max 0.28241557\n",
            "nxt_batch 0 min -0.22576714 max 0.29344347\n",
            "nxt_batch 2 min -0.23442388 max 0.30352077\n",
            "nxt_batch 1 min -0.2427772 max 0.3115761\n",
            "nxt_batch 0 min -0.25034487 max 0.32142842\n",
            "nxt_batch 2 min -0.25586104 max 0.33048585\n",
            "nxt_batch 1 min -0.2630518 max 0.33880585\n",
            "nxt_batch 0 min -0.27124473 max 0.34620792\n",
            "nxt_batch 2 min -0.27936888 max 0.35730124\n",
            "nxt_batch 1 min -0.28956193 max 0.3660971\n",
            "nxt_batch 0 min -0.30090982 max 0.3713907\n",
            "nxt_batch 2 min -0.3080986 max 0.37539902\n",
            "nxt_batch 1 min -0.31278268 max 0.3792537\n",
            "nxt_batch 0 min -0.31804636 max 0.38464507\n",
            "nxt_batch 2 min -0.32537538 max 0.39065638\n",
            "nxt_batch 1 min -0.33341062 max 0.3982151\n",
            "nxt_batch 0 min -0.34220433 max 0.40625095\n",
            "nxt_batch 2 min -0.35081738 max 0.4130428\n",
            "nxt_batch 1 min -0.35696834 max 0.4177389\n",
            "nxt_batch 0 min -0.36308333 max 0.4214043\n",
            "nxt_batch 2 min -0.36832792 max 0.4245186\n",
            "nxt_batch 1 min -0.37194702 max 0.43158016\n",
            "nxt_batch 0 min -0.37645903 max 0.43396798\n",
            "nxt_batch 2 min -0.38023937 max 0.43626192\n",
            "nxt_batch 1 min -0.38660893 max 0.43754968\n",
            "nxt_batch 0 min -0.39157677 max 0.44071212\n",
            "nxt_batch 2 min -0.39673603 max 0.4442375\n",
            "nxt_batch 1 min -0.4030543 max 0.44760132\n",
            "nxt_batch 0 min -0.40879467 max 0.45335945\n",
            "nxt_batch 2 min -0.41261792 max 0.46064126\n",
            "nxt_batch 1 min -0.41659284 max 0.4660233\n",
            "nxt_batch 0 min -0.41830146 max 0.46998033\n",
            "nxt_batch 2 min -0.41716158 max 0.47361\n",
            "nxt_batch 1 min -0.4149935 max 0.47839427\n",
            "nxt_batch 0 min -0.41492763 max 0.48214352\n",
            "nxt_batch 2 min -0.4161948 max 0.48389634\n",
            "nxt_batch 1 min -0.41830066 max 0.48433962\n",
            "nxt_batch 0 min -0.42034164 max 0.48434788\n",
            "nxt_batch 2 min -0.42420432 max 0.48387712\n",
            "nxt_batch 1 min -0.42605558 max 0.48365098\n",
            "nxt_batch 0 min -0.4256167 max 0.48181018\n",
            "nxt_batch 2 min -0.42344016 max 0.48003796\n",
            "nxt_batch 1 min -0.42209065 max 0.477263\n",
            "nxt_batch 0 min -0.42171818 max 0.47539565\n",
            "nxt_batch 2 min -0.42139584 max 0.47236487\n",
            "nxt_batch 1 min -0.4211769 max 0.4694949\n",
            "nxt_batch 0 min -0.42111692 max 0.46724308\n",
            "nxt_batch 2 min -0.42164782 max 0.46700314\n",
            "nxt_batch 1 min -0.42079377 max 0.46729106\n",
            "nxt_batch 0 min -0.41983992 max 0.46678883\n",
            "nxt_batch 2 min -0.42092797 max 0.46469617\n",
            "nxt_batch 1 min -0.42288023 max 0.46213487\n",
            "nxt_batch 0 min -0.42290452 max 0.4608173\n",
            "nxt_batch 2 min -0.42085287 max 0.46124208\n",
            "nxt_batch 1 min -0.41889408 max 0.46123382\n",
            "nxt_batch 0 min -0.41910312 max 0.46020418\n",
            "nxt_batch 2 min -0.42103744 max 0.45794863\n",
            "nxt_batch 1 min -0.42354107 max 0.45492154\n",
            "nxt_batch 0 min -0.4251668 max 0.45211393\n",
            "nxt_batch 2 min -0.42510208 max 0.45019597\n",
            "nxt_batch 1 min -0.42428228 max 0.4485324\n",
            "nxt_batch 0 min -0.42418733 max 0.44672847\n",
            "nxt_batch 2 min -0.42473978 max 0.44492412\n",
            "nxt_batch 1 min -0.42363814 max 0.44352317\n",
            "nxt_batch 0 min -0.42191783 max 0.442701\n",
            "nxt_batch 2 min -0.4221506 max 0.44083646\n",
            "nxt_batch 1 min -0.4235477 max 0.43820158\n",
            "nxt_batch 0 min -0.42554197 max 0.4355127\n",
            "nxt_batch 2 min -0.42550036 max 0.43336868\n",
            "nxt_batch 1 min -0.4231256 max 0.43179107\n",
            "nxt_batch 0 min -0.41983557 max 0.43070596\n",
            "nxt_batch 2 min -0.41828477 max 0.43009984\n",
            "nxt_batch 1 min -0.41733587 max 0.42941725\n",
            "nxt_batch 0 min -0.416917 max 0.42796174\n",
            "nxt_batch 2 min -0.41653615 max 0.42621508\n",
            "nxt_batch 1 min -0.41356203 max 0.42664066\n",
            "nxt_batch 0 min -0.40982196 max 0.42508554\n",
            "nxt_batch 2 min -0.4093826 max 0.4247311\n",
            "nxt_batch 1 min -0.4091166 max 0.42511588\n",
            "nxt_batch 0 min -0.4081864 max 0.4254345\n",
            "nxt_batch 2 min -0.40691438 max 0.42562968\n",
            "nxt_batch 1 min -0.4052805 max 0.4258094\n",
            "nxt_batch 0 min -0.4037878 max 0.4252704\n",
            "nxt_batch 2 min -0.40308684 max 0.42547747\n",
            "nxt_batch 1 min -0.40243855 max 0.425852\n",
            "nxt_batch 0 min -0.40139675 max 0.42633334\n",
            "nxt_batch 2 min -0.39997494 max 0.4272326\n",
            "nxt_batch 1 min -0.40098044 max 0.4279637\n",
            "nxt_batch 0 min -0.40198058 max 0.42801788\n",
            "nxt_batch 2 min -0.40288845 max 0.42827204\n",
            "nxt_batch 1 min -0.4026323 max 0.42792574\n",
            "nxt_batch 0 min -0.40234947 max 0.42948803\n",
            "nxt_batch 2 min -0.40316975 max 0.4339037\n",
            "nxt_batch 1 min -0.40475667 max 0.4357075\n",
            "nxt_batch 0 min -0.40711355 max 0.43515113\n",
            "nxt_batch 2 min -0.40947253 max 0.4356135\n",
            "nxt_batch 1 min -0.4105069 max 0.43782133\n",
            "nxt_batch 0 min -0.41009137 max 0.43832392\n",
            "nxt_batch 2 min -0.40863475 max 0.4385536\n",
            "nxt_batch 1 min -0.407399 max 0.44033837\n",
            "nxt_batch 0 min -0.40806153 max 0.44244084\n",
            "nxt_batch 2 min -0.40965378 max 0.44447953\n",
            "nxt_batch 1 min -0.41146168 max 0.44509283\n",
            "nxt_batch 0 min -0.41326287 max 0.4449783\n",
            "nxt_batch 2 min -0.41433337 max 0.44505075\n",
            "nxt_batch 1 min -0.4153425 max 0.44772562\n",
            "nxt_batch 0 min -0.41516972 max 0.44850674\n",
            "nxt_batch 2 min -0.41479474 max 0.4486666\n",
            "nxt_batch 1 min -0.41629428 max 0.44901273\n",
            "nxt_batch 0 min -0.4172015 max 0.4511852\n",
            "nxt_batch 2 min -0.41793412 max 0.45348117\n",
            "nxt_batch 1 min -0.41813096 max 0.4568706\n",
            "nxt_batch 0 min -0.41918388 max 0.46006477\n",
            "nxt_batch 2 min -0.41990235 max 0.46327266\n",
            "nxt_batch 1 min -0.42005366 max 0.46594492\n",
            "nxt_batch 0 min -0.42056036 max 0.46780992\n",
            "nxt_batch 2 min -0.42057186 max 0.46970764\n",
            "nxt_batch 1 min -0.4205039 max 0.47179893\n",
            "nxt_batch 0 min -0.41979882 max 0.47427025\n",
            "nxt_batch 2 min -0.41894612 max 0.4762628\n",
            "nxt_batch 1 min -0.41941065 max 0.47745526\n",
            "nxt_batch 0 min -0.41862372 max 0.4782971\n",
            "nxt_batch 2 min -0.41848984 max 0.4794798\n",
            "nxt_batch 1 min -0.4183044 max 0.4809822\n",
            "nxt_batch 0 min -0.41859296 max 0.48242542\n",
            "nxt_batch 2 min -0.41608748 max 0.4829154\n",
            "nxt_batch 1 min -0.41714096 max 0.48289135\n",
            "nxt_batch 0 min -0.41647404 max 0.4840676\n",
            "nxt_batch 2 min -0.4138984 max 0.48539582\n",
            "nxt_batch 1 min -0.41385856 max 0.4850197\n",
            "nxt_batch 0 min -0.41151255 max 0.4829841\n",
            "nxt_batch 2 min -0.41132155 max 0.4804273\n",
            "nxt_batch 1 min -0.41043544 max 0.4808581\n",
            "nxt_batch 0 min -0.40853888 max 0.48219565\n",
            "nxt_batch 2 min -0.40908363 max 0.48140746\n",
            "nxt_batch 1 min -0.40999132 max 0.4791717\n",
            "nxt_batch 0 min -0.40930983 max 0.47708976\n",
            "nxt_batch 2 min -0.40719706 max 0.47686937\n",
            "nxt_batch 1 min -0.40563568 max 0.4760207\n",
            "nxt_batch 0 min -0.40494493 max 0.4745626\n",
            "nxt_batch 2 min -0.4046915 max 0.47265998\n",
            "nxt_batch 1 min -0.4047956 max 0.47255498\n",
            "nxt_batch 0 min -0.40632784 max 0.4727311\n",
            "nxt_batch 2 min -0.40861967 max 0.47266686\n",
            "nxt_batch 1 min -0.40891874 max 0.47300416\n",
            "nxt_batch 0 min -0.40789086 max 0.47284284\n",
            "nxt_batch 2 min -0.4072593 max 0.47098637\n",
            "nxt_batch 1 min -0.40867165 max 0.46932453\n",
            "nxt_batch 0 min -0.4118661 max 0.46957764\n",
            "nxt_batch 2 min -0.4135161 max 0.4705077\n",
            "nxt_batch 1 min -0.41502437 max 0.47117403\n",
            "nxt_batch 0 min -0.4139565 max 0.471894\n",
            "nxt_batch 2 min -0.41607782 max 0.473553\n",
            "nxt_batch 1 min -0.41721994 max 0.4757051\n",
            "nxt_batch 0 min -0.41554064 max 0.47923097\n",
            "nxt_batch 2 min -0.4206061 max 0.47866225\n",
            "nxt_batch 1 min -0.42379156 max 0.47869134\n",
            "nxt_batch 0 min -0.42186818 max 0.4807074\n",
            "nxt_batch 2 min -0.4219428 max 0.48223186\n",
            "nxt_batch 1 min -0.42365682 max 0.48395655\n",
            "nxt_batch 0 min -0.4243509 max 0.48633978\n",
            "nxt_batch 2 min -0.42476934 max 0.48939714\n",
            "nxt_batch 1 min -0.42451134 max 0.49174413\n",
            "nxt_batch 0 min -0.42427716 max 0.49336568\n",
            "nxt_batch 2 min -0.42617193 max 0.4963199\n",
            "nxt_batch 1 min -0.4301884 max 0.4997387\n",
            "nxt_batch 0 min -0.43133077 max 0.5013585\n",
            "nxt_batch 2 min -0.43161187 max 0.5034721\n",
            "nxt_batch 1 min -0.43183702 max 0.50640476\n",
            "nxt_batch 0 min -0.43152764 max 0.5084632\n",
            "nxt_batch 2 min -0.43206596 max 0.51209325\n",
            "nxt_batch 1 min -0.4328571 max 0.5146446\n",
            "nxt_batch 0 min -0.43364912 max 0.5148454\n",
            "nxt_batch 2 min -0.43571806 max 0.51631653\n",
            "nxt_batch 1 min -0.43829405 max 0.5178813\n",
            "nxt_batch 0 min -0.43975142 max 0.5160625\n",
            "nxt_batch 2 min -0.4433002 max 0.517926\n",
            "nxt_batch 1 min -0.445474 max 0.520793\n",
            "nxt_batch 0 min -0.4444176 max 0.5203177\n",
            "nxt_batch 2 min -0.44518223 max 0.52336025\n",
            "nxt_batch 1 min -0.44442233 max 0.52297187\n",
            "nxt_batch 0 min -0.44060504 max 0.51712346\n",
            "nxt_batch 2 min -0.44420865 max 0.5170935\n",
            "nxt_batch 1 min -0.44671747 max 0.51815695\n",
            "nxt_batch 0 min -0.44474092 max 0.5179407\n",
            "nxt_batch 2 min -0.4453405 max 0.51870334\n",
            "nxt_batch 1 min -0.44558638 max 0.51761425\n",
            "nxt_batch 0 min -0.44379964 max 0.514543\n",
            "nxt_batch 2 min -0.44771197 max 0.51441383\n",
            "nxt_batch 1 min -0.45257467 max 0.5143614\n",
            "nxt_batch 0 min -0.4508882 max 0.51380086\n",
            "nxt_batch 2 min -0.44722378 max 0.5111203\n",
            "nxt_batch 1 min -0.4467174 max 0.5085218\n",
            "nxt_batch 0 min -0.44588214 max 0.5063094\n",
            "nxt_batch 2 min -0.44384068 max 0.50496495\n",
            "nxt_batch 1 min -0.44332427 max 0.5041788\n",
            "nxt_batch 0 min -0.44553784 max 0.5026128\n",
            "nxt_batch 2 min -0.4471184 max 0.5023632\n",
            "nxt_batch 1 min -0.44720954 max 0.5039307\n",
            "nxt_batch 0 min -0.4482197 max 0.5035367\n",
            "nxt_batch 2 min -0.44988894 max 0.50072\n",
            "nxt_batch 1 min -0.44872504 max 0.49855825\n",
            "nxt_batch 0 min -0.44591224 max 0.49708202\n",
            "nxt_batch 2 min -0.4447153 max 0.49485442\n",
            "nxt_batch 1 min -0.44387022 max 0.4923477\n",
            "nxt_batch 0 min -0.44448286 max 0.49173877\n",
            "nxt_batch 2 min -0.44104102 max 0.49223337\n",
            "nxt_batch 1 min -0.43962738 max 0.49222836\n",
            "nxt_batch 0 min -0.43969154 max 0.49208876\n",
            "nxt_batch 2 min -0.44097462 max 0.49131057\n",
            "nxt_batch 1 min -0.4424612 max 0.49108902\n",
            "nxt_batch 0 min -0.44072977 max 0.4914722\n",
            "nxt_batch 2 min -0.43907434 max 0.49171218\n",
            "nxt_batch 1 min -0.44376355 max 0.49363023\n",
            "nxt_batch 0 min -0.4460548 max 0.49216697\n",
            "nxt_batch 2 min -0.44624567 max 0.49259886\n",
            "nxt_batch 1 min -0.4443767 max 0.49473333\n",
            "nxt_batch 0 min -0.4389849 max 0.49625427\n",
            "nxt_batch 2 min -0.43921018 max 0.49750367\n",
            "nxt_batch 1 min -0.44200218 max 0.5040457\n",
            "nxt_batch 0 min -0.442932 max 0.5125301\n",
            "nxt_batch 2 min -0.44419327 max 0.51662654\n",
            "nxt_batch 1 min -0.44429377 max 0.51562774\n",
            "nxt_batch 0 min -0.4432069 max 0.5198357\n",
            "nxt_batch 2 min -0.43906352 max 0.52333593\n",
            "nxt_batch 1 min -0.442862 max 0.52367705\n",
            "nxt_batch 0 min -0.44806668 max 0.5249615\n",
            "nxt_batch 2 min -0.4504236 max 0.52938855\n",
            "nxt_batch 1 min -0.45049137 max 0.5312457\n",
            "nxt_batch 0 min -0.44664216 max 0.53234947\n",
            "nxt_batch 2 min -0.44484016 max 0.5350863\n",
            "nxt_batch 1 min -0.44430903 max 0.5382591\n",
            "nxt_batch 0 min -0.44557866 max 0.53651303\n",
            "nxt_batch 2 min -0.44728377 max 0.5329045\n",
            "nxt_batch 1 min -0.44535303 max 0.53251064\n",
            "nxt_batch 0 min -0.4400988 max 0.5342208\n",
            "nxt_batch 2 min -0.435484 max 0.53504336\n",
            "nxt_batch 1 min -0.434754 max 0.5366218\n",
            "nxt_batch 0 min -0.43731502 max 0.5368742\n",
            "nxt_batch 2 min -0.44168466 max 0.5359771\n",
            "nxt_batch 1 min -0.44553223 max 0.534282\n",
            "nxt_batch 0 min -0.44607782 max 0.5309628\n",
            "nxt_batch 2 min -0.4465002 max 0.53053397\n",
            "nxt_batch 1 min -0.45287836 max 0.52911365\n",
            "nxt_batch 0 min -0.45624086 max 0.5259161\n",
            "nxt_batch 2 min -0.45528868 max 0.5303118\n",
            "nxt_batch 1 min -0.45272925 max 0.53598416\n",
            "nxt_batch 0 min -0.45027786 max 0.5383033\n",
            "nxt_batch 2 min -0.4499038 max 0.53813595\n",
            "nxt_batch 1 min -0.45337078 max 0.5339869\n",
            "nxt_batch 0 min -0.45983422 max 0.5264319\n",
            "nxt_batch 2 min -0.48618323 max 0.51862454\n",
            "nxt_batch 1 min -0.47024453 max 0.5123731\n",
            "nxt_batch 0 min -0.47212026 max 0.5085596\n",
            "nxt_batch 2 min -0.4733981 max 0.5057895\n",
            "nxt_batch 1 min -0.47719693 max 0.5024787\n",
            "nxt_batch 0 min -0.48650733 max 0.5021985\n",
            "nxt_batch 2 min -0.49804425 max 0.50132096\n",
            "nxt_batch 1 min -0.5058571 max 0.50168514\n",
            "nxt_batch 0 min -0.5065727 max 0.5063015\n",
            "nxt_batch 2 min -0.4971694 max 0.51279014\n",
            "nxt_batch 1 min -0.48071277 max 0.5197162\n",
            "nxt_batch 0 min -0.46311262 max 0.5238095\n",
            "nxt_batch 2 min -0.45052615 max 0.52826834\n",
            "nxt_batch 1 min -0.4577596 max 0.5299909\n",
            "nxt_batch 0 min -0.4741992 max 0.5233729\n",
            "nxt_batch 2 min -0.48818836 max 0.5107137\n",
            "nxt_batch 1 min -0.49631572 max 0.50102985\n",
            "nxt_batch 0 min -0.4974452 max 0.49331692\n",
            "nxt_batch 2 min -0.49392515 max 0.49734923\n",
            "nxt_batch 1 min -0.49947646 max 0.5049125\n",
            "nxt_batch 0 min -0.50230193 max 0.5140636\n",
            "nxt_batch 2 min -0.50106025 max 0.52235305\n",
            "nxt_batch 1 min -0.4959513 max 0.5274632\n",
            "nxt_batch 0 min -0.48824084 max 0.5288363\n",
            "nxt_batch 2 min -0.48024458 max 0.5263634\n",
            "nxt_batch 1 min -0.47461152 max 0.52107024\n",
            "nxt_batch 0 min -0.4729371 max 0.51755756\n",
            "nxt_batch 2 min -0.47567612 max 0.51943684\n",
            "nxt_batch 1 min -0.4805282 max 0.5216756\n",
            "nxt_batch 0 min -0.4867725 max 0.5241839\n",
            "nxt_batch 2 min -0.4933157 max 0.5273589\n",
            "nxt_batch 1 min -0.49447724 max 0.5282206\n",
            "nxt_batch 0 min -0.49480897 max 0.5295253\n",
            "nxt_batch 2 min -0.4957974 max 0.53171\n",
            "nxt_batch 1 min -0.49770918 max 0.5332931\n",
            "nxt_batch 0 min -0.49964386 max 0.5349224\n",
            "nxt_batch 2 min -0.49897668 max 0.5357631\n",
            "nxt_batch 1 min -0.49543747 max 0.5374093\n",
            "nxt_batch 0 min -0.49076617 max 0.540822\n",
            "nxt_batch 2 min -0.48953676 max 0.5400685\n",
            "nxt_batch 1 min -0.4853207 max 0.5446292\n",
            "nxt_batch 0 min -0.4790417 max 0.54946107\n",
            "nxt_batch 2 min -0.4791193 max 0.5508362\n",
            "nxt_batch 1 min -0.47939056 max 0.5502521\n",
            "nxt_batch 0 min -0.47893903 max 0.54717344\n",
            "nxt_batch 2 min -0.47826457 max 0.54228985\n",
            "nxt_batch 1 min -0.47577366 max 0.53836405\n",
            "nxt_batch 0 min -0.47155395 max 0.5352967\n",
            "nxt_batch 2 min -0.46572933 max 0.53426564\n",
            "nxt_batch 1 min -0.4600309 max 0.5449208\n",
            "nxt_batch 0 min -0.45529455 max 0.55442226\n",
            "nxt_batch 2 min -0.45162576 max 0.56215733\n",
            "nxt_batch 1 min -0.4506768 max 0.5676151\n",
            "nxt_batch 0 min -0.45376945 max 0.5677693\n",
            "nxt_batch 2 min -0.46226722 max 0.5595919\n",
            "nxt_batch 1 min -0.4731536 max 0.5447707\n",
            "nxt_batch 0 min -0.4832425 max 0.53841794\n",
            "nxt_batch 2 min -0.4890252 max 0.5327281\n",
            "nxt_batch 1 min -0.48924527 max 0.52626526\n",
            "nxt_batch 0 min -0.48404482 max 0.53671336\n",
            "nxt_batch 2 min -0.47394806 max 0.54472363\n",
            "nxt_batch 1 min -0.4611067 max 0.54373133\n",
            "nxt_batch 0 min -0.45187378 max 0.53766096\n",
            "nxt_batch 2 min -0.44186872 max 0.5430734\n",
            "nxt_batch 1 min -0.43050453 max 0.5465448\n",
            "nxt_batch 0 min -0.42013773 max 0.54457587\n",
            "nxt_batch 2 min -0.42787644 max 0.5360918\n",
            "nxt_batch 1 min -0.45641768 max 0.5405921\n",
            "nxt_batch 0 min -0.48504016 max 0.5501317\n",
            "nxt_batch 2 min -0.50820214 max 0.5582051\n",
            "nxt_batch 1 min -0.52385736 max 0.5619335\n",
            "nxt_batch 0 min -0.5329671 max 0.5651759\n",
            "nxt_batch 2 min -0.54029083 max 0.56245244\n",
            "nxt_batch 1 min -0.57082915 max 0.5573304\n",
            "nxt_batch 0 min -0.5844609 max 0.5486957\n",
            "nxt_batch 2 min -0.5945793 max 0.53574294\n",
            "nxt_batch 1 min -0.59077334 max 0.54211175\n",
            "nxt_batch 0 min -0.57861185 max 0.53756243\n",
            "nxt_batch 2 min -0.5752481 max 0.52645046\n",
            "nxt_batch 1 min -0.5697504 max 0.50962716\n",
            "nxt_batch 0 min -0.55834866 max 0.5079254\n",
            "nxt_batch 2 min -0.53527117 max 0.50865865\n",
            "nxt_batch 1 min -0.5036932 max 0.5105637\n",
            "nxt_batch 0 min -0.47332752 max 0.5184375\n",
            "nxt_batch 2 min -0.44528207 max 0.5219322\n",
            "nxt_batch 1 min -0.44424173 max 0.5199317\n",
            "nxt_batch 0 min -0.4449641 max 0.5158807\n",
            "nxt_batch 2 min -0.44894525 max 0.51483333\n",
            "nxt_batch 1 min -0.46180606 max 0.5115026\n",
            "nxt_batch 0 min -0.4757434 max 0.5118805\n",
            "nxt_batch 2 min -0.48697057 max 0.5110272\n",
            "nxt_batch 1 min -0.49641934 max 0.5111624\n",
            "nxt_batch 0 min -0.50330186 max 0.509869\n",
            "nxt_batch 2 min -0.50832134 max 0.5106622\n",
            "nxt_batch 1 min -0.5113697 max 0.5215174\n",
            "nxt_batch 0 min -0.5131111 max 0.5274944\n",
            "nxt_batch 2 min -0.5136757 max 0.53349257\n",
            "nxt_batch 1 min -0.5118505 max 0.53783023\n",
            "nxt_batch 0 min -0.5085192 max 0.540979\n",
            "nxt_batch 2 min -0.50371885 max 0.5423775\n",
            "nxt_batch 1 min -0.49790695 max 0.5458667\n",
            "nxt_batch 0 min -0.493566 max 0.55588704\n",
            "nxt_batch 2 min -0.49020568 max 0.5649353\n",
            "nxt_batch 1 min -0.48759484 max 0.5728027\n",
            "nxt_batch 0 min -0.48605418 max 0.5795157\n",
            "nxt_batch 2 min -0.48477694 max 0.5844459\n",
            "nxt_batch 1 min -0.48417804 max 0.5871794\n",
            "nxt_batch 0 min -0.4851733 max 0.58810246\n",
            "nxt_batch 2 min -0.48788112 max 0.58743316\n",
            "nxt_batch 1 min -0.49269173 max 0.5859184\n",
            "nxt_batch 0 min -0.49730664 max 0.58359337\n",
            "nxt_batch 2 min -0.5028752 max 0.5808346\n",
            "nxt_batch 1 min -0.5092814 max 0.5782325\n",
            "nxt_batch 0 min -0.5143298 max 0.5754124\n",
            "nxt_batch 2 min -0.517894 max 0.5731654\n",
            "nxt_batch 1 min -0.52102166 max 0.57223606\n",
            "nxt_batch 0 min -0.52376884 max 0.5722398\n",
            "nxt_batch 2 min -0.5271598 max 0.57159257\n",
            "nxt_batch 1 min -0.53062165 max 0.569549\n",
            "nxt_batch 0 min -0.5328156 max 0.56800115\n",
            "nxt_batch 2 min -0.533712 max 0.5674139\n",
            "nxt_batch 1 min -0.5511446 max 0.56838644\n",
            "nxt_batch 0 min -0.56773865 max 0.57100683\n",
            "nxt_batch 2 min -0.5814327 max 0.57558143\n",
            "nxt_batch 1 min -0.5944802 max 0.5818363\n",
            "nxt_batch 0 min -0.60398567 max 0.58742917\n",
            "nxt_batch 2 min -0.61079705 max 0.59156716\n",
            "nxt_batch 1 min -0.61723995 max 0.59457266\n",
            "nxt_batch 0 min -0.61797 max 0.5959374\n",
            "nxt_batch 2 min -0.6064008 max 0.5939069\n",
            "nxt_batch 1 min -0.5964303 max 0.59617853\n",
            "nxt_batch 0 min -0.5834998 max 0.6043981\n",
            "nxt_batch 2 min -0.56035995 max 0.61039436\n",
            "nxt_batch 1 min -0.5623276 max 0.6109027\n",
            "nxt_batch 0 min -0.5705905 max 0.6195897\n",
            "nxt_batch 2 min -0.5692264 max 0.6199519\n",
            "nxt_batch 1 min -0.5664017 max 0.617464\n",
            "nxt_batch 0 min -0.57820976 max 0.6201643\n",
            "nxt_batch 2 min -0.60192513 max 0.62504494\n",
            "nxt_batch 1 min -0.6061191 max 0.6127888\n",
            "nxt_batch 0 min -0.618348 max 0.6202737\n",
            "nxt_batch 2 min -0.6153163 max 0.61706626\n",
            "nxt_batch 1 min -0.6110443 max 0.61703837\n",
            "nxt_batch 0 min -0.582675 max 0.5930387\n",
            "nxt_batch 2 min -0.5935577 max 0.609717\n",
            "nxt_batch 1 min -0.59227455 max 0.61091447\n",
            "nxt_batch 0 min -0.57230747 max 0.5889945\n",
            "nxt_batch 2 min -0.58752275 max 0.61777127\n",
            "nxt_batch 1 min -0.5955744 max 0.63647604\n",
            "nxt_batch 0 min -0.5748769 max 0.6074188\n",
            "nxt_batch 2 min -0.5660144 max 0.60102916\n",
            "nxt_batch 1 min -0.55856156 max 0.5963756\n",
            "nxt_batch 0 min -0.5592165 max 0.6034807\n",
            "nxt_batch 2 min -0.56157887 max 0.59642416\n",
            "nxt_batch 1 min -0.5597398 max 0.5738423\n",
            "nxt_batch 0 min -0.54691505 max 0.5467998\n",
            "nxt_batch 2 min -0.5241615 max 0.5301103\n",
            "nxt_batch 1 min -0.51108015 max 0.52770984\n",
            "nxt_batch 0 min -0.51035124 max 0.523969\n",
            "nxt_batch 2 min -0.5042062 max 0.5230899\n",
            "nxt_batch 1 min -0.5033013 max 0.5187706\n",
            "nxt_batch 0 min -0.50381 max 0.517015\n",
            "nxt_batch 2 min -0.50536186 max 0.50857097\n"
          ],
          "name": "stdout"
        }
      ]
    },
    {
      "cell_type": "code",
      "metadata": {
        "id": "fE5Y7dGIHSNv",
        "colab_type": "code",
        "colab": {}
      },
      "source": [
        "!nvidia-smi"
      ],
      "execution_count": 0,
      "outputs": []
    },
    {
      "cell_type": "code",
      "metadata": {
        "id": "i2WIyzj9O-gQ",
        "colab_type": "code",
        "outputId": "02c62faf-f097-4ee8-c593-b5b38e7d8095",
        "colab": {
          "base_uri": "https://localhost:8080/",
          "height": 68
        }
      },
      "source": [
        "%load_ext tensorboard\n",
        "%tensorboard --logdir ./data"
      ],
      "execution_count": 0,
      "outputs": [
        {
          "output_type": "stream",
          "text": [
            "The tensorboard extension is already loaded. To reload it, use:\n",
            "  %reload_ext tensorboard\n"
          ],
          "name": "stdout"
        },
        {
          "output_type": "display_data",
          "data": {
            "text/plain": [
              "Reusing TensorBoard on port 6006 (pid 1007), started 1:47:36 ago. (Use '!kill 1007' to kill it.)"
            ]
          },
          "metadata": {
            "tags": []
          }
        },
        {
          "output_type": "display_data",
          "data": {
            "application/javascript": [
              "\n",
              "        (async () => {\n",
              "            const url = await google.colab.kernel.proxyPort(6006, {\"cache\": true});\n",
              "            const iframe = document.createElement('iframe');\n",
              "            iframe.src = url;\n",
              "            iframe.setAttribute('width', '100%');\n",
              "            iframe.setAttribute('height', '800');\n",
              "            iframe.setAttribute('frameborder', 0);\n",
              "            document.body.appendChild(iframe);\n",
              "        })();\n",
              "    "
            ],
            "text/plain": [
              "<IPython.core.display.Javascript object>"
            ]
          },
          "metadata": {
            "tags": []
          }
        }
      ]
    }
  ]
}